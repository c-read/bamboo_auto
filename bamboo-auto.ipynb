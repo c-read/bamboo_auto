{
 "cells": [
  {
   "cell_type": "code",
   "execution_count": 2,
   "metadata": {},
   "outputs": [
    {
     "name": "stderr",
     "output_type": "stream",
     "text": [
      "C:\\Users\\Connor\\AppData\\Local\\Temp\\ipykernel_23132\\4010706850.py:22: DeprecationWarning: use options instead of chrome_options\n",
      "  driver = webdriver.Chrome(\"chromedriver\", chrome_options=chrome_options)\n"
     ]
    }
   ],
   "source": [
    "from selenium import webdriver\n",
    "from selenium.webdriver.common.by import By\n",
    "from selenium.webdriver.chrome.options import Options\n",
    "\n",
    "p_path = r\"C:\\Users\\Connor\\Coding\\Python\\Scripts\\bamboo_auto\\bamboop.txt\"\n",
    "e_path = r\"C:\\Users\\Connor\\Coding\\Python\\Scripts\\bamboo_auto\\bambooe.txt\"\n",
    "login_path = r\"C:\\Users\\Connor\\Coding\\Python\\Scripts\\bamboo_auto\\bamboologin.txt\"\n",
    "\n",
    "with open(p_path, 'r') as myfile:  \n",
    "    password = myfile.read().replace('\\n', '')\n",
    "with open(e_path, 'r') as myfile:  \n",
    "    email = myfile.read().replace('\\n', '')\n",
    "with open(login_path, 'r') as myfile:  \n",
    "    login_url = myfile.read().replace('\\n', '')\n",
    "hours = 7.5\n",
    "\n",
    "chrome_options = Options()\n",
    "chrome_options.add_argument(\"--headless\")\n",
    "driver = webdriver.Chrome(\"chromedriver\", chrome_options=chrome_options)\n",
    "\n",
    "driver.get(login_url)\n",
    "driver.find_element(\"id\", \"lemail\").send_keys(email)\n",
    "driver.find_element(\"id\",\"password\").send_keys(password)\n",
    "driver.find_element(By.CLASS_NAME,\"login-actions\").click()\n",
    "driver.find_element(By.XPATH,\"//span[.='Yes, Trust this Browser']\").click()\n",
    "driver.implicitly_wait(30) \n",
    "driver.find_element(By.XPATH,\"//span[.='Enter Time Worked']\").click()\n",
    "driver.find_element(\"id\",\"hoursWorked\").send_keys(hours)\n",
    "driver.find_element(By.CLASS_NAME,\"fab-SelectToggle__toggleButton\").click()\n",
    "driver.find_element(By.XPATH,\"//div[.='TSI Bench']\").click()\n",
    "driver.find_element(By.XPATH,\"//span[.='Save']\").click()\n",
    "driver.close()\n",
    "driver.quit() \n"
   ]
  }
 ],
 "metadata": {
  "kernelspec": {
   "display_name": "Python 3.9.12 ('ssl')",
   "language": "python",
   "name": "python3"
  },
  "language_info": {
   "codemirror_mode": {
    "name": "ipython",
    "version": 3
   },
   "file_extension": ".py",
   "mimetype": "text/x-python",
   "name": "python",
   "nbconvert_exporter": "python",
   "pygments_lexer": "ipython3",
   "version": "3.9.12"
  },
  "orig_nbformat": 4,
  "vscode": {
   "interpreter": {
    "hash": "14ed48e3bdb008009502a52c4c96cb3c9ec65137d9ed31cf151adb95ac468308"
   }
  }
 },
 "nbformat": 4,
 "nbformat_minor": 2
}
